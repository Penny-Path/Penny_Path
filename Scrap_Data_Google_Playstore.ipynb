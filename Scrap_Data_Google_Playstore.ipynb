{
  "nbformat": 4,
  "nbformat_minor": 0,
  "metadata": {
    "colab": {
      "provenance": [],
      "authorship_tag": "ABX9TyOFW/Z96QEtyEvLTD6eugSI",
      "include_colab_link": true
    },
    "kernelspec": {
      "name": "python3",
      "display_name": "Python 3"
    },
    "language_info": {
      "name": "python"
    }
  },
  "cells": [
    {
      "cell_type": "markdown",
      "metadata": {
        "id": "view-in-github",
        "colab_type": "text"
      },
      "source": [
        "<a href=\"https://colab.research.google.com/github/Penny-Path/Penny_Path/blob/main/Scrap_Data_Google_Playstore.ipynb\" target=\"_parent\"><img src=\"https://colab.research.google.com/assets/colab-badge.svg\" alt=\"Open In Colab\"/></a>"
      ]
    },
    {
      "cell_type": "code",
      "execution_count": null,
      "metadata": {
        "colab": {
          "base_uri": "https://localhost:8080/"
        },
        "id": "zbZJAsDZSNf2",
        "outputId": "844e5f10-992c-4905-fe67-1aacbb73cbdb"
      },
      "outputs": [
        {
          "output_type": "stream",
          "name": "stdout",
          "text": [
            "Collecting google-play-scraper\n",
            "  Downloading google_play_scraper-1.2.7-py3-none-any.whl (28 kB)\n",
            "Installing collected packages: google-play-scraper\n",
            "Successfully installed google-play-scraper-1.2.7\n"
          ]
        }
      ],
      "source": [
        "pip install google-play-scraper"
      ]
    },
    {
      "cell_type": "code",
      "source": [
        "from google_play_scraper import Sort, reviews\n",
        "import pandas as pd\n",
        "\n",
        "# Specify the app ID for Ruangguru\n",
        "app_id = 'com.bitsmedia.android.muslimpro'\n",
        "\n",
        "# Number of reviews to scrape\n",
        "num_reviews = 500\n",
        "\n",
        "# Fetch reviews\n",
        "result, _ = reviews(\n",
        "    app_id,\n",
        "    lang='id',  # Language set to Indonesian\n",
        "    country='id',  # Country set to Indonesia\n",
        "    sort=Sort.NEWEST,  # Sort reviews by newest\n",
        "    count=num_reviews,  # Number of reviews to fetch\n",
        ")\n",
        "\n",
        "# Extract relevant fields from each review\n",
        "review_data = []\n",
        "for review in result:\n",
        "    review_data.append({\n",
        "        'Review Text': review['content'],\n",
        "        'Rating': review['score'],\n",
        "        'Username': review['userName'],\n",
        "        'Review Date': review['at'],\n",
        "        'Developer Reply': review.get('replyContent', None)\n",
        "    })\n",
        "\n",
        "# Create DataFrame from the extracted data\n",
        "reviews_df = pd.DataFrame(review_data)\n",
        "\n",
        "# Save the reviews to a CSV file\n",
        "reviews_df.to_csv('muslimpro_reviews.csv', index=False)\n",
        "\n",
        "print(\"Reviews have been successfully saved to 'muslimpro_reviews.csv'.\")"
      ],
      "metadata": {
        "colab": {
          "base_uri": "https://localhost:8080/"
        },
        "id": "LH-VNqrRSOun",
        "outputId": "ac2a89e9-dca1-48d3-bffa-6b84888f204c"
      },
      "execution_count": null,
      "outputs": [
        {
          "output_type": "stream",
          "name": "stdout",
          "text": [
            "Reviews have been successfully saved to 'muslimpro_reviews.csv'.\n"
          ]
        }
      ]
    }
  ]
}